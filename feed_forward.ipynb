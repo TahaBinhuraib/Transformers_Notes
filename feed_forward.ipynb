{
  "nbformat": 4,
  "nbformat_minor": 0,
  "metadata": {
    "colab": {
      "name": "feed_forward.ipynb",
      "provenance": [],
      "authorship_tag": "ABX9TyOlEheKT3hx8/vFqbQCw76u",
      "include_colab_link": true
    },
    "kernelspec": {
      "name": "python3",
      "display_name": "Python 3"
    },
    "language_info": {
      "name": "python"
    }
  },
  "cells": [
    {
      "cell_type": "markdown",
      "metadata": {
        "id": "view-in-github",
        "colab_type": "text"
      },
      "source": [
        "<a href=\"https://colab.research.google.com/github/TahaBinhuraib/Transformers_Notes/blob/main/feed_forward.ipynb\" target=\"_parent\"><img src=\"https://colab.research.google.com/assets/colab-badge.svg\" alt=\"Open In Colab\"/></a>"
      ]
    },
    {
      "cell_type": "code",
      "execution_count": 5,
      "metadata": {
        "cellView": "form",
        "id": "9QC5lWSP4B_i"
      },
      "outputs": [],
      "source": [
        "#@title Imports and downloads\n",
        "%%capture\n",
        "!pip install transformers\n",
        "import torch.nn as nn\n",
        "from transformers import AutoConfig\n",
        "from transformers import AutoTokenizer\n",
        "import torch\n",
        "from math import sqrt\n",
        "import torch.nn.functional as F\n",
        "model_ckpt = \"bert-base-uncased\"\n",
        "config = AutoConfig.from_pretrained(model_ckpt)"
      ]
    },
    {
      "cell_type": "code",
      "source": [
        "# Let's generate random data with the appropriate dimensions.\n",
        "x = torch.randn(1,5,768)"
      ],
      "metadata": {
        "id": "9TBsXkGfP7Za"
      },
      "execution_count": 2,
      "outputs": []
    },
    {
      "cell_type": "code",
      "source": [
        "# In this tutorial we will be looking at how to implement the encoder part\n",
        "# The feed forwards layer in the encoder decoder is just a simple 2-layer \n",
        "# fully connected neural net, but with a twist; instead of processing the whole\n",
        "# sequence of embeddings as a single vector, it processes each embedding\n",
        "# independently. For this reason, this layer is referred to as a position wise\n",
        "# feed forward layer.\n",
        "\n",
        "class feed_forward(nn.Module):\n",
        "  def __init__(self, config):\n",
        "    super().__init__()\n",
        "    self.linear1 = nn.Linear(config.hidden_size, config.intermediate_size)\n",
        "    self.linear2 = nn.Linear(config.intermediate_size, config.hidden_size)\n",
        "    self.gelu = nn.GELU()\n",
        "    self.dropout = nn.Dropout(config.hidden_dropout_prob)\n",
        "  def forward(self, x):\n",
        "    x = self.gelu(self.linear1(x))\n",
        "    x = self.linear2(x)\n",
        "    x = self.dropout(x)\n",
        "    return x\n",
        "ff = feed_forward(config)\n",
        "ff_out = ff(x)\n",
        "ff_out.size()"
      ],
      "metadata": {
        "colab": {
          "base_uri": "https://localhost:8080/"
        },
        "id": "7IYvVMsrQYSi",
        "outputId": "f090a849-c66d-4c9b-b84a-9bcb383ff55d"
      },
      "execution_count": 6,
      "outputs": [
        {
          "output_type": "execute_result",
          "data": {
            "text/plain": [
              "torch.Size([1, 5, 768])"
            ]
          },
          "metadata": {},
          "execution_count": 6
        }
      ]
    }
  ]
}